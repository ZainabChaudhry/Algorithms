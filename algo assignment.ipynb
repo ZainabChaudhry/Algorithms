{
 "cells": [
  {
   "cell_type": "code",
   "execution_count": 2,
   "metadata": {},
   "outputs": [
    {
     "name": "stdout",
     "output_type": "stream",
     "text": [
      "Pattern found at index  4  and ended at index  8\n"
     ]
    }
   ],
   "source": [
    "def matching(t, p): \n",
    "    # t represents text and p represents pattern\n",
    "    n = len(t)\n",
    "    m = len(p)  \n",
    "    i = 0\n",
    "    while (i <=n-m): \n",
    "        for j in range(0,m): \n",
    "            if p[j] != t[i+j]: \n",
    "                break\n",
    "            j+=1\n",
    "        if j==m:\n",
    "            print(\"Pattern found at index \",i,\" and ended at index \",i+m)\n",
    "            i+=m \n",
    "        elif j==0: \n",
    "            i+=1\n",
    "        else: \n",
    "            i+=j # this is the place where if pattern not found the next searching starts from i+j \n",
    "\n",
    "pattern = \"wxyz\"\n",
    "text = \"wxyuwxyzutwxhu\"\n",
    "matching(text, pattern) "
   ]
  },
  {
   "cell_type": "code",
   "execution_count": 10,
   "metadata": {},
   "outputs": [
    {
     "name": "stdout",
     "output_type": "stream",
     "text": [
      "[0, 1, 0, 1, 2, 3, 0, 1, 0]\n"
     ]
    }
   ],
   "source": [
    "def prefixfunc(pat): \n",
    "    m=len(pat)\n",
    "    pref=[0]*m\n",
    "    l = 0 \n",
    "    i = 1\n",
    "    while i < m: \n",
    "        if pat[i]== pat[l]: \n",
    "            l=l+ 1\n",
    "            pref[i] = l\n",
    "            i =i+ 1\n",
    "        else: \n",
    "            if l != 0: \n",
    "                l = pref[l-1] \n",
    "            else: \n",
    "                pref[i] = 0\n",
    "                i += 1\n",
    "    return pref\n",
    "\n",
    "pat = \"aabaabcab\"\n",
    "pref=prefixfunc(pat)\n",
    "print(pref)"
   ]
  },
  {
   "cell_type": "code",
   "execution_count": 39,
   "metadata": {},
   "outputs": [
    {
     "name": "stdout",
     "output_type": "stream",
     "text": [
      "Pattern found at index  6  and end at  8\n"
     ]
    }
   ],
   "source": [
    "def rabinkarp(p, t, q): \n",
    "    dummy = 16 # this can be any positive number that is used incalculation of hash value \n",
    "          #but is prefered to be equal to the the input characters of text\n",
    "    n = len(t)\n",
    "    m = len(p) \n",
    "    ph = 0    # hash value for pattern \n",
    "    th = 0    # hash value for txt \n",
    "    h = 1\n",
    "    for i in range(m-1): \n",
    "        h = (h * dummy)% q \n",
    "    k=0\n",
    "    while(k<m):\n",
    "        ph = (dummy * ph + ord(p[k]))% q \n",
    "        th = (dummy * th + ord(t[k]))% q \n",
    "        k+=1\n",
    "    l=0\n",
    "    while(l<n-m+1): # sliding pattern \n",
    "        if ph == th: \n",
    "            for j in range(m): \n",
    "                if t[l + j] != p[j]: \n",
    "                    break\n",
    "            j+= 1\n",
    "            if j == m: \n",
    "                print(\"Pattern found at index \" ,l, \" and end at \", l+m)\n",
    "        if l < n-m: \n",
    "            th = (dummy*(th-ord(t[l])*h) + ord(t[l + m]))% q \n",
    "            if th < 0: \n",
    "                th += q\n",
    "        l+=1\n",
    "\n",
    "text = \"3141592653589793\"\n",
    "pattern = \"26\"\n",
    "q = 11 # A prime number \n",
    "rabinkarp(pattern, text, q) "
   ]
  },
  {
   "cell_type": "code",
   "execution_count": 70,
   "metadata": {},
   "outputs": [
    {
     "name": "stdout",
     "output_type": "stream",
     "text": [
      "Pattern occur at shift  4\n"
     ]
    }
   ],
   "source": [
    "def bmp(t, p): \n",
    "    dummy=256 # while working with alphabets it is preffered to make in 256  \n",
    "             #or asci vaue of the maximum character can also be used\n",
    "    m = len(p) \n",
    "    n = len(t) \n",
    "    bc = [0]*dummy\n",
    "    k = 0\n",
    "    z=0\n",
    "    for i in range(m): \n",
    "        bc[ord(p[i])] = i;  # reprsesents badcharacter array the mismatched one\n",
    "    while(k <= n-m): \n",
    "        j = m-1\n",
    "        while j>=0 and p[j] == t[k+j]: \n",
    "            j -= 1\n",
    "        if j<0: \n",
    "            print(\"Pattern occur at shift \" ,k) \n",
    "            z=1\n",
    "            if(k+m<n):\n",
    "                k += m-bc[ord(t[k+m])]\n",
    "            else:\n",
    "                k+=1\n",
    "        else: \n",
    "            k += max(1, j-bc[ord(t[k+j])])\n",
    "    if(z==0):\n",
    "        print(\"notfound\")\n",
    "text = \"earning\"\n",
    "pattern = \"ing\"\n",
    "bmp(text, pattern)"
   ]
  },
  {
   "cell_type": "code",
   "execution_count": null,
   "metadata": {},
   "outputs": [],
   "source": []
  },
  {
   "cell_type": "code",
   "execution_count": null,
   "metadata": {},
   "outputs": [],
   "source": []
  },
  {
   "cell_type": "code",
   "execution_count": null,
   "metadata": {},
   "outputs": [],
   "source": []
  }
 ],
 "metadata": {
  "kernelspec": {
   "display_name": "Python 3",
   "language": "python",
   "name": "python3"
  },
  "language_info": {
   "codemirror_mode": {
    "name": "ipython",
    "version": 3
   },
   "file_extension": ".py",
   "mimetype": "text/x-python",
   "name": "python",
   "nbconvert_exporter": "python",
   "pygments_lexer": "ipython3",
   "version": "3.7.3"
  }
 },
 "nbformat": 4,
 "nbformat_minor": 2
}
